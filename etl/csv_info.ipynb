{
 "cells": [
  {
   "cell_type": "markdown",
   "id": "e6956945",
   "metadata": {},
   "source": [
    "### 대시보드용데이터.csv 파일 정보"
   ]
  },
  {
   "cell_type": "code",
   "execution_count": 1,
   "id": "3206dd1b",
   "metadata": {},
   "outputs": [],
   "source": [
    "import pandas as pd\n",
    "\n",
    "df = pd.read_csv(\"대시보드용데이터.csv\")"
   ]
  },
  {
   "cell_type": "code",
   "execution_count": 2,
   "id": "60ee1ad1",
   "metadata": {},
   "outputs": [
    {
     "name": "stdout",
     "output_type": "stream",
     "text": [
      "<class 'pandas.core.frame.DataFrame'>\n",
      "RangeIndex: 77902 entries, 0 to 77901\n",
      "Data columns (total 41 columns):\n",
      " #   Column                 Non-Null Count  Dtype  \n",
      "---  ------                 --------------  -----  \n",
      " 0   회사명                    77902 non-null  object \n",
      " 1   거래소코드                  77902 non-null  int64  \n",
      " 2   산업코드                   77902 non-null  int64  \n",
      " 3   산업명                    77902 non-null  object \n",
      " 4   시장                     77902 non-null  object \n",
      " 5   설립일                    77902 non-null  object \n",
      " 6   연도                     77902 non-null  int64  \n",
      " 7   부실징후확률                 77902 non-null  float64\n",
      " 8   이자보상배율                 77902 non-null  float64\n",
      " 9   자본잠식률                  77902 non-null  float64\n",
      " 10  영업이익률                  77902 non-null  float64\n",
      " 11  순이익률                   77902 non-null  float64\n",
      " 12  ROA                    77902 non-null  float64\n",
      " 13  ROE                    77902 non-null  float64\n",
      " 14  유동비율                   77902 non-null  float64\n",
      " 15  당좌비율                   77902 non-null  float64\n",
      " 16  부채비율                   77902 non-null  float64\n",
      " 17  차입금의존도                 77902 non-null  float64\n",
      " 18  Beneish M-Score        77902 non-null  float64\n",
      " 19  매출액증가율                 77902 non-null  float64\n",
      " 20  영업이익증가율                77902 non-null  float64\n",
      " 21  총자산회전율                 77902 non-null  float64\n",
      " 22  매출채권회전율                77902 non-null  float64\n",
      " 23  label                  77902 non-null  float64\n",
      " 24  산업대분류명                 77902 non-null  object \n",
      " 25  업종중앙값 부실징후확률           77902 non-null  float64\n",
      " 26  업종중앙값 이자보상배율           77902 non-null  float64\n",
      " 27  업종중앙값 자본잠식률            77902 non-null  float64\n",
      " 28  업종중앙값 영업이익률            77902 non-null  float64\n",
      " 29  업종중앙값 순이익률             77902 non-null  float64\n",
      " 30  업종중앙값 ROA              77902 non-null  float64\n",
      " 31  업종중앙값 ROE              77902 non-null  float64\n",
      " 32  업종중앙값 유동비율             77902 non-null  float64\n",
      " 33  업종중앙값 당좌비율             77902 non-null  float64\n",
      " 34  업종중앙값 부채비율             77902 non-null  float64\n",
      " 35  업종중앙값 차입금의존도           77902 non-null  float64\n",
      " 36  업종중앙값 Beneish M-Score  77902 non-null  float64\n",
      " 37  업종중앙값 매출액증가율           77902 non-null  float64\n",
      " 38  업종중앙값 영업이익증가율          77902 non-null  float64\n",
      " 39  업종중앙값 총자산회전율           77902 non-null  float64\n",
      " 40  업종중앙값 매출채권회전율          77902 non-null  float64\n",
      "dtypes: float64(33), int64(3), object(5)\n",
      "memory usage: 24.4+ MB\n"
     ]
    }
   ],
   "source": [
    "df.info()"
   ]
  },
  {
   "cell_type": "code",
   "execution_count": null,
   "id": "0efefa55",
   "metadata": {},
   "outputs": [],
   "source": []
  }
 ],
 "metadata": {
  "kernelspec": {
   "display_name": "Python 3",
   "language": "python",
   "name": "python3"
  },
  "language_info": {
   "codemirror_mode": {
    "name": "ipython",
    "version": 3
   },
   "file_extension": ".py",
   "mimetype": "text/x-python",
   "name": "python",
   "nbconvert_exporter": "python",
   "pygments_lexer": "ipython3",
   "version": "3.11.9"
  }
 },
 "nbformat": 4,
 "nbformat_minor": 5
}
